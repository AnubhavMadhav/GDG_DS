{
 "cells": [
  {
   "cell_type": "markdown",
   "metadata": {},
   "source": [
    "## Importing libraries"
   ]
  },
  {
   "cell_type": "code",
   "execution_count": 1,
   "metadata": {},
   "outputs": [],
   "source": [
    "import pandas as pd\n",
    "import numpy as np"
   ]
  },
  {
   "cell_type": "markdown",
   "metadata": {},
   "source": [
    "## Reading CSV data"
   ]
  },
  {
   "cell_type": "code",
   "execution_count": 2,
   "metadata": {},
   "outputs": [
    {
     "name": "stdout",
     "output_type": "stream",
     "text": [
      "(5032, 11)\n"
     ]
    }
   ],
   "source": [
    "olx_raw = pd.read_csv(\"olx_data.csv\", names=['Price','Title','Description','DOP','Make','Model','Year','Fuel','Milage','Location','Area'])\n",
    "print(olx_raw.shape)"
   ]
  },
  {
   "cell_type": "markdown",
   "metadata": {},
   "source": [
    "## Sample data"
   ]
  },
  {
   "cell_type": "code",
   "execution_count": 3,
   "metadata": {},
   "outputs": [
    {
     "data": {
      "text/html": [
       "<div>\n",
       "<style scoped>\n",
       "    .dataframe tbody tr th:only-of-type {\n",
       "        vertical-align: middle;\n",
       "    }\n",
       "\n",
       "    .dataframe tbody tr th {\n",
       "        vertical-align: top;\n",
       "    }\n",
       "\n",
       "    .dataframe thead th {\n",
       "        text-align: right;\n",
       "    }\n",
       "</style>\n",
       "<table border=\"1\" class=\"dataframe\">\n",
       "  <thead>\n",
       "    <tr style=\"text-align: right;\">\n",
       "      <th></th>\n",
       "      <th>Price</th>\n",
       "      <th>Title</th>\n",
       "      <th>Description</th>\n",
       "      <th>DOP</th>\n",
       "      <th>Make</th>\n",
       "      <th>Model</th>\n",
       "      <th>Year</th>\n",
       "      <th>Fuel</th>\n",
       "      <th>Milage</th>\n",
       "      <th>Location</th>\n",
       "      <th>Area</th>\n",
       "    </tr>\n",
       "  </thead>\n",
       "  <tbody>\n",
       "    <tr>\n",
       "      <td>0</td>\n",
       "      <td>735008.0</td>\n",
       "      <td>Mahindra Xuv500 XUV500 W4, 2015, Diesel</td>\n",
       "      <td>Selling  Price   811000  /   Deal Of The Day F...</td>\n",
       "      <td>2019-09-07T15:52:40+05:30</td>\n",
       "      <td>mahindra</td>\n",
       "      <td>mahindra-xuv500</td>\n",
       "      <td>2015.0</td>\n",
       "      <td>diesel</td>\n",
       "      <td>50000</td>\n",
       "      <td>Vadodara</td>\n",
       "      <td>Akota</td>\n",
       "    </tr>\n",
       "    <tr>\n",
       "      <td>1</td>\n",
       "      <td>737000.0</td>\n",
       "      <td>Mahindra Xuv500 XUV500 W4, 2015, Diesel</td>\n",
       "      <td>Selling  Price   811000  /   Deal Of The Day F...</td>\n",
       "      <td>2019-09-07T15:12:33+05:30</td>\n",
       "      <td>mahindra</td>\n",
       "      <td>mahindra-xuv500</td>\n",
       "      <td>2015.0</td>\n",
       "      <td>diesel</td>\n",
       "      <td>52000</td>\n",
       "      <td>Vadodara</td>\n",
       "      <td>Akota</td>\n",
       "    </tr>\n",
       "    <tr>\n",
       "      <td>2</td>\n",
       "      <td>740000.0</td>\n",
       "      <td>Mahindra Xuv500 XUV500 W4, 2015, Diesel</td>\n",
       "      <td>Selling  Price   811000  /   Deal Of The Day F...</td>\n",
       "      <td>2019-09-07T15:16:49+05:30</td>\n",
       "      <td>mahindra</td>\n",
       "      <td>mahindra-xuv500</td>\n",
       "      <td>2015.0</td>\n",
       "      <td>diesel</td>\n",
       "      <td>54000</td>\n",
       "      <td>Vadodara</td>\n",
       "      <td>Akota</td>\n",
       "    </tr>\n",
       "    <tr>\n",
       "      <td>3</td>\n",
       "      <td>790000.0</td>\n",
       "      <td>Mahindra Xuv500 XUV500 W6, 2016, Diesel</td>\n",
       "      <td>Well maintained genuine kilometre Company reco...</td>\n",
       "      <td>2019-09-15T15:32:47+05:30</td>\n",
       "      <td>mahindra</td>\n",
       "      <td>mahindra-xuv500</td>\n",
       "      <td>2016.0</td>\n",
       "      <td>diesel</td>\n",
       "      <td>125000</td>\n",
       "      <td>Vadodara</td>\n",
       "      <td>Gotri Road</td>\n",
       "    </tr>\n",
       "    <tr>\n",
       "      <td>4</td>\n",
       "      <td>210000.0</td>\n",
       "      <td>Jeep for Sale</td>\n",
       "      <td>CJ3B jeep for URGENT sale. Single owner</td>\n",
       "      <td>2019-09-15T12:49:18+05:30</td>\n",
       "      <td>mahindra</td>\n",
       "      <td>mahindra-others</td>\n",
       "      <td>1984.0</td>\n",
       "      <td>diesel</td>\n",
       "      <td>23000</td>\n",
       "      <td>Vadodara</td>\n",
       "      <td>Kareli Bagh</td>\n",
       "    </tr>\n",
       "  </tbody>\n",
       "</table>\n",
       "</div>"
      ],
      "text/plain": [
       "      Price                                    Title  \\\n",
       "0  735008.0  Mahindra Xuv500 XUV500 W4, 2015, Diesel   \n",
       "1  737000.0  Mahindra Xuv500 XUV500 W4, 2015, Diesel   \n",
       "2  740000.0  Mahindra Xuv500 XUV500 W4, 2015, Diesel   \n",
       "3  790000.0  Mahindra Xuv500 XUV500 W6, 2016, Diesel   \n",
       "4  210000.0                            Jeep for Sale   \n",
       "\n",
       "                                         Description  \\\n",
       "0  Selling  Price   811000  /   Deal Of The Day F...   \n",
       "1  Selling  Price   811000  /   Deal Of The Day F...   \n",
       "2  Selling  Price   811000  /   Deal Of The Day F...   \n",
       "3  Well maintained genuine kilometre Company reco...   \n",
       "4            CJ3B jeep for URGENT sale. Single owner   \n",
       "\n",
       "                         DOP      Make            Model    Year    Fuel  \\\n",
       "0  2019-09-07T15:52:40+05:30  mahindra  mahindra-xuv500  2015.0  diesel   \n",
       "1  2019-09-07T15:12:33+05:30  mahindra  mahindra-xuv500  2015.0  diesel   \n",
       "2  2019-09-07T15:16:49+05:30  mahindra  mahindra-xuv500  2015.0  diesel   \n",
       "3  2019-09-15T15:32:47+05:30  mahindra  mahindra-xuv500  2016.0  diesel   \n",
       "4  2019-09-15T12:49:18+05:30  mahindra  mahindra-others  1984.0  diesel   \n",
       "\n",
       "   Milage  Location         Area  \n",
       "0   50000  Vadodara        Akota  \n",
       "1   52000  Vadodara        Akota  \n",
       "2   54000  Vadodara        Akota  \n",
       "3  125000  Vadodara   Gotri Road  \n",
       "4   23000  Vadodara  Kareli Bagh  "
      ]
     },
     "execution_count": 3,
     "metadata": {},
     "output_type": "execute_result"
    }
   ],
   "source": [
    "olx_raw.head()"
   ]
  },
  {
   "cell_type": "markdown",
   "metadata": {},
   "source": [
    "## Dropping columns"
   ]
  },
  {
   "cell_type": "code",
   "execution_count": 4,
   "metadata": {},
   "outputs": [],
   "source": [
    "olx_lr = olx_raw.drop(['Title','Description','DOP','Location','Area','Make'],axis=1)"
   ]
  },
  {
   "cell_type": "code",
   "execution_count": 5,
   "metadata": {},
   "outputs": [
    {
     "data": {
      "text/html": [
       "<div>\n",
       "<style scoped>\n",
       "    .dataframe tbody tr th:only-of-type {\n",
       "        vertical-align: middle;\n",
       "    }\n",
       "\n",
       "    .dataframe tbody tr th {\n",
       "        vertical-align: top;\n",
       "    }\n",
       "\n",
       "    .dataframe thead th {\n",
       "        text-align: right;\n",
       "    }\n",
       "</style>\n",
       "<table border=\"1\" class=\"dataframe\">\n",
       "  <thead>\n",
       "    <tr style=\"text-align: right;\">\n",
       "      <th></th>\n",
       "      <th>Price</th>\n",
       "      <th>Model</th>\n",
       "      <th>Year</th>\n",
       "      <th>Fuel</th>\n",
       "      <th>Milage</th>\n",
       "    </tr>\n",
       "  </thead>\n",
       "  <tbody>\n",
       "    <tr>\n",
       "      <td>0</td>\n",
       "      <td>735008.0</td>\n",
       "      <td>mahindra-xuv500</td>\n",
       "      <td>2015.0</td>\n",
       "      <td>diesel</td>\n",
       "      <td>50000</td>\n",
       "    </tr>\n",
       "    <tr>\n",
       "      <td>1</td>\n",
       "      <td>737000.0</td>\n",
       "      <td>mahindra-xuv500</td>\n",
       "      <td>2015.0</td>\n",
       "      <td>diesel</td>\n",
       "      <td>52000</td>\n",
       "    </tr>\n",
       "    <tr>\n",
       "      <td>2</td>\n",
       "      <td>740000.0</td>\n",
       "      <td>mahindra-xuv500</td>\n",
       "      <td>2015.0</td>\n",
       "      <td>diesel</td>\n",
       "      <td>54000</td>\n",
       "    </tr>\n",
       "    <tr>\n",
       "      <td>3</td>\n",
       "      <td>790000.0</td>\n",
       "      <td>mahindra-xuv500</td>\n",
       "      <td>2016.0</td>\n",
       "      <td>diesel</td>\n",
       "      <td>125000</td>\n",
       "    </tr>\n",
       "    <tr>\n",
       "      <td>4</td>\n",
       "      <td>210000.0</td>\n",
       "      <td>mahindra-others</td>\n",
       "      <td>1984.0</td>\n",
       "      <td>diesel</td>\n",
       "      <td>23000</td>\n",
       "    </tr>\n",
       "  </tbody>\n",
       "</table>\n",
       "</div>"
      ],
      "text/plain": [
       "      Price            Model    Year    Fuel  Milage\n",
       "0  735008.0  mahindra-xuv500  2015.0  diesel   50000\n",
       "1  737000.0  mahindra-xuv500  2015.0  diesel   52000\n",
       "2  740000.0  mahindra-xuv500  2015.0  diesel   54000\n",
       "3  790000.0  mahindra-xuv500  2016.0  diesel  125000\n",
       "4  210000.0  mahindra-others  1984.0  diesel   23000"
      ]
     },
     "execution_count": 5,
     "metadata": {},
     "output_type": "execute_result"
    }
   ],
   "source": [
    "olx_lr.head()"
   ]
  },
  {
   "cell_type": "markdown",
   "metadata": {},
   "source": [
    "## Dropping rows with 0 milage"
   ]
  },
  {
   "cell_type": "code",
   "execution_count": 6,
   "metadata": {},
   "outputs": [],
   "source": [
    "olx_lr = olx_lr[olx_lr['Milage']!=0]"
   ]
  },
  {
   "cell_type": "markdown",
   "metadata": {},
   "source": [
    "## Substituting less frequent cars-models with NA"
   ]
  },
  {
   "cell_type": "code",
   "execution_count": 7,
   "metadata": {},
   "outputs": [],
   "source": [
    "threshold = 30 # Anything that occurs less than this will be removed.\n",
    "for col in ['Model']:\n",
    "    value_counts = olx_lr[col].value_counts() # Specific column \n",
    "    to_remove = value_counts[value_counts <= threshold].index\n",
    "    olx_lr[col].replace(to_remove, np.nan, inplace=True)"
   ]
  },
  {
   "cell_type": "markdown",
   "metadata": {},
   "source": [
    "## Dropping rows in NA"
   ]
  },
  {
   "cell_type": "code",
   "execution_count": 8,
   "metadata": {},
   "outputs": [
    {
     "name": "stdout",
     "output_type": "stream",
     "text": [
      "(3608, 5)\n"
     ]
    }
   ],
   "source": [
    "olx_lr = olx_lr.dropna()\n",
    "print(olx_lr.shape)"
   ]
  },
  {
   "cell_type": "markdown",
   "metadata": {},
   "source": [
    "## Checking NA values"
   ]
  },
  {
   "cell_type": "code",
   "execution_count": 9,
   "metadata": {},
   "outputs": [
    {
     "data": {
      "text/plain": [
       "Price     0\n",
       "Model     0\n",
       "Year      0\n",
       "Fuel      0\n",
       "Milage    0\n",
       "dtype: int64"
      ]
     },
     "execution_count": 9,
     "metadata": {},
     "output_type": "execute_result"
    }
   ],
   "source": [
    "olx_lr.isnull().sum()"
   ]
  },
  {
   "cell_type": "markdown",
   "metadata": {},
   "source": [
    "## Inspecting data"
   ]
  },
  {
   "cell_type": "code",
   "execution_count": 10,
   "metadata": {},
   "outputs": [
    {
     "data": {
      "text/html": [
       "<div>\n",
       "<style scoped>\n",
       "    .dataframe tbody tr th:only-of-type {\n",
       "        vertical-align: middle;\n",
       "    }\n",
       "\n",
       "    .dataframe tbody tr th {\n",
       "        vertical-align: top;\n",
       "    }\n",
       "\n",
       "    .dataframe thead th {\n",
       "        text-align: right;\n",
       "    }\n",
       "</style>\n",
       "<table border=\"1\" class=\"dataframe\">\n",
       "  <thead>\n",
       "    <tr style=\"text-align: right;\">\n",
       "      <th></th>\n",
       "      <th>Data Type</th>\n",
       "      <th>No of Levels</th>\n",
       "      <th>Levels</th>\n",
       "    </tr>\n",
       "  </thead>\n",
       "  <tbody>\n",
       "    <tr>\n",
       "      <td>Price</td>\n",
       "      <td>float64</td>\n",
       "      <td>533</td>\n",
       "      <td>[735008.0 737000.0 740000.0 790000.0 124999.0 ...</td>\n",
       "    </tr>\n",
       "    <tr>\n",
       "      <td>Model</td>\n",
       "      <td>object</td>\n",
       "      <td>55</td>\n",
       "      <td>['mahindra-xuv500' 'mahindra-scorpio' 'mahindr...</td>\n",
       "    </tr>\n",
       "    <tr>\n",
       "      <td>Year</td>\n",
       "      <td>float64</td>\n",
       "      <td>25</td>\n",
       "      <td>[2015.0 2016.0 2004.0 2014.0 2012.0 2007.0 201...</td>\n",
       "    </tr>\n",
       "    <tr>\n",
       "      <td>Fuel</td>\n",
       "      <td>object</td>\n",
       "      <td>4</td>\n",
       "      <td>['diesel' 'petrol' 'cng' 'lpg']</td>\n",
       "    </tr>\n",
       "    <tr>\n",
       "      <td>Milage</td>\n",
       "      <td>int64</td>\n",
       "      <td>772</td>\n",
       "      <td>[50000 52000 54000 125000 96000 30950 53000 95...</td>\n",
       "    </tr>\n",
       "  </tbody>\n",
       "</table>\n",
       "</div>"
      ],
      "text/plain": [
       "       Data Type  No of Levels  \\\n",
       "Price    float64           533   \n",
       "Model     object            55   \n",
       "Year     float64            25   \n",
       "Fuel      object             4   \n",
       "Milage     int64           772   \n",
       "\n",
       "                                                   Levels  \n",
       "Price   [735008.0 737000.0 740000.0 790000.0 124999.0 ...  \n",
       "Model   ['mahindra-xuv500' 'mahindra-scorpio' 'mahindr...  \n",
       "Year    [2015.0 2016.0 2004.0 2014.0 2012.0 2007.0 201...  \n",
       "Fuel                      ['diesel' 'petrol' 'cng' 'lpg']  \n",
       "Milage  [50000 52000 54000 125000 96000 30950 53000 95...  "
      ]
     },
     "execution_count": 10,
     "metadata": {},
     "output_type": "execute_result"
    }
   ],
   "source": [
    "def inspect_data(data):\n",
    "    return pd.DataFrame({\"Data Type\":data.dtypes,\"No of Levels\":data.apply(lambda x: x.unique().shape[0],axis=0), \"Levels\":data.apply(lambda x: str(x.unique()),axis=0)})\n",
    "\n",
    "inspect_data(olx_lr)"
   ]
  },
  {
   "cell_type": "markdown",
   "metadata": {},
   "source": [
    "## Hardcoding datatypes"
   ]
  },
  {
   "cell_type": "code",
   "execution_count": 11,
   "metadata": {},
   "outputs": [],
   "source": [
    "olx_lr['Price'] = olx_lr['Price'].astype('int')\n",
    "olx_lr['Year'] = olx_lr['Year'].astype('int')\n",
    "olx_lr['Milage'] = olx_lr['Milage'].astype('int')"
   ]
  },
  {
   "cell_type": "code",
   "execution_count": 12,
   "metadata": {},
   "outputs": [],
   "source": [
    "olx_lr.to_csv(\"olx_clean.csv\",index=False)"
   ]
  },
  {
   "cell_type": "code",
   "execution_count": null,
   "metadata": {},
   "outputs": [],
   "source": []
  }
 ],
 "metadata": {
  "kernelspec": {
   "display_name": "Python 3",
   "language": "python",
   "name": "python3"
  },
  "language_info": {
   "codemirror_mode": {
    "name": "ipython",
    "version": 3
   },
   "file_extension": ".py",
   "mimetype": "text/x-python",
   "name": "python",
   "nbconvert_exporter": "python",
   "pygments_lexer": "ipython3",
   "version": "3.7.3"
  }
 },
 "nbformat": 4,
 "nbformat_minor": 2
}
